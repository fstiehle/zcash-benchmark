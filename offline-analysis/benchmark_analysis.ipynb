{
 "cells": [
  {
   "cell_type": "code",
   "execution_count": 1,
   "metadata": {},
   "outputs": [],
   "source": [
    "import pandas as pd\n",
    "import seaborn as sns\n",
    "import statistics\n",
    "from matplotlib import pyplot as plt\n",
    "%matplotlib inline\n",
    "\n",
    "blocks = pd.read_csv(\"./raw_data/pr/data_block.csv\", names=[\"BLOCK\", \"NS\"])\n",
    "ecdsa_checks = pd.read_csv(\"./raw_data/pr/data_ecdsa.csv\", names=[\"BLOCK\", \"NS\"])\n",
    "shielded_spend = pd.read_csv(\"./raw_data/pr/data_shieldedSpend.csv\", names=[\"BLOCK\", \"NS\"])\n",
    "shielded_output = pd.read_csv(\"./raw_data/pr/data_shieldedOutput.csv\", names=[\"BLOCK\", \"NS\"])\n"
   ]
  },
  {
   "cell_type": "code",
   "execution_count": 2,
   "metadata": {},
   "outputs": [
    {
     "output_type": "execute_result",
     "data": {
      "text/plain": "                                                      BLOCK   NS\n18115945  00000000014dbd7e5b4c7b40299c160845c35c66260189...  451\n18115946  00000000014dbd7e5b4c7b40299c160845c35c66260189...  385\n18115947  00000000014dbd7e5b4c7b40299c160845c35c66260189...  431\n18115948  00000000014dbd7e5b4c7b40299c160845c35c66260189...  580\n18115949  0000000001e6cfe53b3ac01d73fb52ece9a7498f3ab3aa...  552",
      "text/html": "<div>\n<style scoped>\n    .dataframe tbody tr th:only-of-type {\n        vertical-align: middle;\n    }\n\n    .dataframe tbody tr th {\n        vertical-align: top;\n    }\n\n    .dataframe thead th {\n        text-align: right;\n    }\n</style>\n<table border=\"1\" class=\"dataframe\">\n  <thead>\n    <tr style=\"text-align: right;\">\n      <th></th>\n      <th>BLOCK</th>\n      <th>NS</th>\n    </tr>\n  </thead>\n  <tbody>\n    <tr>\n      <th>18115945</th>\n      <td>00000000014dbd7e5b4c7b40299c160845c35c66260189...</td>\n      <td>451</td>\n    </tr>\n    <tr>\n      <th>18115946</th>\n      <td>00000000014dbd7e5b4c7b40299c160845c35c66260189...</td>\n      <td>385</td>\n    </tr>\n    <tr>\n      <th>18115947</th>\n      <td>00000000014dbd7e5b4c7b40299c160845c35c66260189...</td>\n      <td>431</td>\n    </tr>\n    <tr>\n      <th>18115948</th>\n      <td>00000000014dbd7e5b4c7b40299c160845c35c66260189...</td>\n      <td>580</td>\n    </tr>\n    <tr>\n      <th>18115949</th>\n      <td>0000000001e6cfe53b3ac01d73fb52ece9a7498f3ab3aa...</td>\n      <td>552</td>\n    </tr>\n  </tbody>\n</table>\n</div>"
     },
     "metadata": {},
     "execution_count": 2
    }
   ],
   "source": [
    "ecdsa_checks.tail()"
   ]
  },
  {
   "cell_type": "code",
   "execution_count": 3,
   "metadata": {
    "tags": []
   },
   "outputs": [],
   "source": [
    "def sum_per_block(raw_data, block_index=1, time_index=2):\n",
    "    block_hash = 0\n",
    "    summed = []\n",
    "    data = {}\n",
    "    for item in raw_data.itertuples():    \n",
    "        if (block_hash != item[block_index]):     \n",
    "            # save timing for block\n",
    "            data[block_hash] = summed\n",
    "            # new block\n",
    "            summed = []\n",
    "            block_hash = item[block_index]       \n",
    "\n",
    "        # compute till next block\n",
    "        summed.append(item[time_index])\n",
    "    \n",
    "    return pd.DataFrame.from_dict(data, orient='index', columns=[\"NS\"])"
   ]
  },
  {
   "cell_type": "code",
   "execution_count": 4,
   "metadata": {},
   "outputs": [],
   "source": [
    "block_inputs = sum_per_block(ecdsa_checks)\n",
    "block_spends = sum_per_block(shielded_spend)\n",
    "block_outputs = sum_per_block(shielded_output)\n",
    "block_outputs.tail()"
   ]
  },
  {
   "cell_type": "code",
   "execution_count": 31,
   "metadata": {},
   "outputs": [
    {
     "output_type": "execute_result",
     "data": {
      "text/plain": "NS        4257078\nAMOUNT         87\nName: 000000000074009a7fae00e0b3350ff3c05ff2c10597398578e361f8bd12b3d4, dtype: int64"
     },
     "metadata": {},
     "execution_count": 31
    }
   ],
   "source": [
    "block_inputs.loc['000000000074009a7fae00e0b3350ff3c05ff2c10597398578e361f8bd12b3d4']"
   ]
  },
  {
   "cell_type": "code",
   "execution_count": 40,
   "metadata": {
    "tags": []
   },
   "outputs": [],
   "source": [
    "def median_percent_of_block(sum_timings, blocks, block_index=1, time_index=2):\n",
    "    data = {}\n",
    "    for item in blocks.itertuples():\n",
    "        block_hash = item[block_index]\n",
    "        block_time = item[time_index]\n",
    "        try:\n",
    "            item_time = sum_timings.loc[block_hash]['NS']\n",
    "            median_percent = median(item_time) * 100 / block_time\n",
    "            data[block_hash] = mean_percent\n",
    "        except KeyError:\n",
    "            continue\n",
    "\n",
    "    return pd.DataFrame.from_dict(data, orient='index', columns=[\"AVG%\"])"
   ]
  },
  {
   "cell_type": "code",
   "execution_count": 41,
   "metadata": {},
   "outputs": [
    {
     "output_type": "error",
     "ename": "NameError",
     "evalue": "name 'median' is not defined",
     "traceback": [
      "\u001b[0;31m---------------------------------------------------------------------------\u001b[0m",
      "\u001b[0;31mNameError\u001b[0m                                 Traceback (most recent call last)",
      "\u001b[0;32m<ipython-input-41-ac01568b9a19>\u001b[0m in \u001b[0;36m<module>\u001b[0;34m\u001b[0m\n\u001b[0;32m----> 1\u001b[0;31m \u001b[0mavg_input\u001b[0m \u001b[0;34m=\u001b[0m \u001b[0mmedian_percent_of_block\u001b[0m\u001b[0;34m(\u001b[0m\u001b[0mblock_inputs\u001b[0m\u001b[0;34m,\u001b[0m \u001b[0mblocks\u001b[0m\u001b[0;34m)\u001b[0m\u001b[0;34m\u001b[0m\u001b[0;34m\u001b[0m\u001b[0m\n\u001b[0m\u001b[1;32m      2\u001b[0m \u001b[0mavg_spend\u001b[0m \u001b[0;34m=\u001b[0m \u001b[0mmedian_percent_of_block\u001b[0m\u001b[0;34m(\u001b[0m\u001b[0mblock_spends\u001b[0m\u001b[0;34m,\u001b[0m \u001b[0mblocks\u001b[0m\u001b[0;34m)\u001b[0m\u001b[0;34m\u001b[0m\u001b[0;34m\u001b[0m\u001b[0m\n\u001b[1;32m      3\u001b[0m \u001b[0mavg_output\u001b[0m \u001b[0;34m=\u001b[0m \u001b[0mmedian_percent_of_block\u001b[0m\u001b[0;34m(\u001b[0m\u001b[0mblock_outputs\u001b[0m\u001b[0;34m,\u001b[0m \u001b[0mblocks\u001b[0m\u001b[0;34m)\u001b[0m\u001b[0;34m\u001b[0m\u001b[0;34m\u001b[0m\u001b[0m\n",
      "\u001b[0;32m<ipython-input-40-2e3b15e7db0d>\u001b[0m in \u001b[0;36mmedian_percent_of_block\u001b[0;34m(sum_timings, blocks, block_index, time_index)\u001b[0m\n\u001b[1;32m      6\u001b[0m         \u001b[0;32mtry\u001b[0m\u001b[0;34m:\u001b[0m\u001b[0;34m\u001b[0m\u001b[0;34m\u001b[0m\u001b[0m\n\u001b[1;32m      7\u001b[0m             \u001b[0mitem_time\u001b[0m \u001b[0;34m=\u001b[0m \u001b[0msum_timings\u001b[0m\u001b[0;34m.\u001b[0m\u001b[0mloc\u001b[0m\u001b[0;34m[\u001b[0m\u001b[0mblock_hash\u001b[0m\u001b[0;34m]\u001b[0m\u001b[0;34m[\u001b[0m\u001b[0;34m'NS'\u001b[0m\u001b[0;34m]\u001b[0m\u001b[0;34m\u001b[0m\u001b[0;34m\u001b[0m\u001b[0m\n\u001b[0;32m----> 8\u001b[0;31m             \u001b[0mmedian_percent\u001b[0m \u001b[0;34m=\u001b[0m \u001b[0mmedian\u001b[0m\u001b[0;34m(\u001b[0m\u001b[0mitem_time\u001b[0m\u001b[0;34m)\u001b[0m \u001b[0;34m*\u001b[0m \u001b[0;36m100\u001b[0m \u001b[0;34m/\u001b[0m \u001b[0mblock_time\u001b[0m\u001b[0;34m\u001b[0m\u001b[0;34m\u001b[0m\u001b[0m\n\u001b[0m\u001b[1;32m      9\u001b[0m             \u001b[0mdata\u001b[0m\u001b[0;34m[\u001b[0m\u001b[0mblock_hash\u001b[0m\u001b[0;34m]\u001b[0m \u001b[0;34m=\u001b[0m \u001b[0mmean_percent\u001b[0m\u001b[0;34m\u001b[0m\u001b[0;34m\u001b[0m\u001b[0m\n\u001b[1;32m     10\u001b[0m         \u001b[0;32mexcept\u001b[0m \u001b[0mKeyError\u001b[0m\u001b[0;34m:\u001b[0m\u001b[0;34m\u001b[0m\u001b[0;34m\u001b[0m\u001b[0m\n",
      "\u001b[0;31mNameError\u001b[0m: name 'median' is not defined"
     ]
    }
   ],
   "source": [
    "avg_input = median_percent_of_block(block_inputs, blocks)\n",
    "avg_spend = median_percent_of_block(block_spends, blocks)\n",
    "avg_output = median_percent_of_block(block_outputs, blocks)"
   ]
  },
  {
   "cell_type": "code",
   "execution_count": 42,
   "metadata": {},
   "outputs": [
    {
     "output_type": "execute_result",
     "data": {
      "text/plain": "                AVG%\ncount  162630.000000\nmean        0.003813\nstd         0.084616\nmin         0.000002\n25%         0.000430\n50%         0.001179\n75%         0.003770\nmax        23.551398",
      "text/html": "<div>\n<style scoped>\n    .dataframe tbody tr th:only-of-type {\n        vertical-align: middle;\n    }\n\n    .dataframe tbody tr th {\n        vertical-align: top;\n    }\n\n    .dataframe thead th {\n        text-align: right;\n    }\n</style>\n<table border=\"1\" class=\"dataframe\">\n  <thead>\n    <tr style=\"text-align: right;\">\n      <th></th>\n      <th>AVG%</th>\n    </tr>\n  </thead>\n  <tbody>\n    <tr>\n      <th>count</th>\n      <td>162630.000000</td>\n    </tr>\n    <tr>\n      <th>mean</th>\n      <td>0.003813</td>\n    </tr>\n    <tr>\n      <th>std</th>\n      <td>0.084616</td>\n    </tr>\n    <tr>\n      <th>min</th>\n      <td>0.000002</td>\n    </tr>\n    <tr>\n      <th>25%</th>\n      <td>0.000430</td>\n    </tr>\n    <tr>\n      <th>50%</th>\n      <td>0.001179</td>\n    </tr>\n    <tr>\n      <th>75%</th>\n      <td>0.003770</td>\n    </tr>\n    <tr>\n      <th>max</th>\n      <td>23.551398</td>\n    </tr>\n  </tbody>\n</table>\n</div>"
     },
     "metadata": {},
     "execution_count": 42
    }
   ],
   "source": [
    "avg_input.describe()\n"
   ]
  },
  {
   "cell_type": "code",
   "execution_count": 43,
   "metadata": {},
   "outputs": [
    {
     "output_type": "execute_result",
     "data": {
      "text/plain": "               AVG%\ncount  1.528380e+05\nmean   2.276974e+01\nstd    4.797780e+01\nmin    2.160838e-07\n25%    5.261371e-04\n50%    1.341716e+01\n75%    3.356986e+01\nmax    1.126036e+04",
      "text/html": "<div>\n<style scoped>\n    .dataframe tbody tr th:only-of-type {\n        vertical-align: middle;\n    }\n\n    .dataframe tbody tr th {\n        vertical-align: top;\n    }\n\n    .dataframe thead th {\n        text-align: right;\n    }\n</style>\n<table border=\"1\" class=\"dataframe\">\n  <thead>\n    <tr style=\"text-align: right;\">\n      <th></th>\n      <th>AVG%</th>\n    </tr>\n  </thead>\n  <tbody>\n    <tr>\n      <th>count</th>\n      <td>1.528380e+05</td>\n    </tr>\n    <tr>\n      <th>mean</th>\n      <td>2.276974e+01</td>\n    </tr>\n    <tr>\n      <th>std</th>\n      <td>4.797780e+01</td>\n    </tr>\n    <tr>\n      <th>min</th>\n      <td>2.160838e-07</td>\n    </tr>\n    <tr>\n      <th>25%</th>\n      <td>5.261371e-04</td>\n    </tr>\n    <tr>\n      <th>50%</th>\n      <td>1.341716e+01</td>\n    </tr>\n    <tr>\n      <th>75%</th>\n      <td>3.356986e+01</td>\n    </tr>\n    <tr>\n      <th>max</th>\n      <td>1.126036e+04</td>\n    </tr>\n  </tbody>\n</table>\n</div>"
     },
     "metadata": {},
     "execution_count": 43
    }
   ],
   "source": [
    "avg_spend.describe()"
   ]
  },
  {
   "cell_type": "code",
   "execution_count": 44,
   "metadata": {},
   "outputs": [
    {
     "output_type": "execute_result",
     "data": {
      "text/plain": "                AVG%\ncount  152838.000000\nmean       32.236983\nstd        84.369801\nmin         0.000003\n25%         8.036821\n50%        22.207397\n75%        48.271384\nmax      8744.125705",
      "text/html": "<div>\n<style scoped>\n    .dataframe tbody tr th:only-of-type {\n        vertical-align: middle;\n    }\n\n    .dataframe tbody tr th {\n        vertical-align: top;\n    }\n\n    .dataframe thead th {\n        text-align: right;\n    }\n</style>\n<table border=\"1\" class=\"dataframe\">\n  <thead>\n    <tr style=\"text-align: right;\">\n      <th></th>\n      <th>AVG%</th>\n    </tr>\n  </thead>\n  <tbody>\n    <tr>\n      <th>count</th>\n      <td>152838.000000</td>\n    </tr>\n    <tr>\n      <th>mean</th>\n      <td>32.236983</td>\n    </tr>\n    <tr>\n      <th>std</th>\n      <td>84.369801</td>\n    </tr>\n    <tr>\n      <th>min</th>\n      <td>0.000003</td>\n    </tr>\n    <tr>\n      <th>25%</th>\n      <td>8.036821</td>\n    </tr>\n    <tr>\n      <th>50%</th>\n      <td>22.207397</td>\n    </tr>\n    <tr>\n      <th>75%</th>\n      <td>48.271384</td>\n    </tr>\n    <tr>\n      <th>max</th>\n      <td>8744.125705</td>\n    </tr>\n  </tbody>\n</table>\n</div>"
     },
     "metadata": {},
     "execution_count": 44
    }
   ],
   "source": [
    "avg_output.describe()"
   ]
  },
  {
   "cell_type": "code",
   "execution_count": 45,
   "metadata": {},
   "outputs": [],
   "source": [
    "data = {}\n",
    "for item in blocks.itertuples():\n",
    "    block_hash = item[1]\n",
    "    block_time = item[2]\n",
    "    data[block_hash] = 0\n",
    "    for summed in [block_inputs, block_spends, block_outputs]:\n",
    "        try:\n",
    "            item_time = summed.loc[block_hash]['NS']        \n",
    "            data[block_hash] = data[block_hash] + item_time\n",
    "        except KeyError:\n",
    "            continue\n",
    "    data[block_hash] = data[block_hash] * 100 / block_time\n",
    "all_summed = pd.DataFrame.from_dict(data, orient='index')"
   ]
  },
  {
   "cell_type": "code",
   "execution_count": 47,
   "metadata": {},
   "outputs": [
    {
     "output_type": "execute_result",
     "data": {
      "text/plain": "                   0\ncount  427177.000000\nmean       25.156087\nstd        64.887033\nmin         0.000000\n25%         0.000000\n50%         0.013796\n75%        55.361442\nmax     11260.434269",
      "text/html": "<div>\n<style scoped>\n    .dataframe tbody tr th:only-of-type {\n        vertical-align: middle;\n    }\n\n    .dataframe tbody tr th {\n        vertical-align: top;\n    }\n\n    .dataframe thead th {\n        text-align: right;\n    }\n</style>\n<table border=\"1\" class=\"dataframe\">\n  <thead>\n    <tr style=\"text-align: right;\">\n      <th></th>\n      <th>0</th>\n    </tr>\n  </thead>\n  <tbody>\n    <tr>\n      <th>count</th>\n      <td>427177.000000</td>\n    </tr>\n    <tr>\n      <th>mean</th>\n      <td>25.156087</td>\n    </tr>\n    <tr>\n      <th>std</th>\n      <td>64.887033</td>\n    </tr>\n    <tr>\n      <th>min</th>\n      <td>0.000000</td>\n    </tr>\n    <tr>\n      <th>25%</th>\n      <td>0.000000</td>\n    </tr>\n    <tr>\n      <th>50%</th>\n      <td>0.013796</td>\n    </tr>\n    <tr>\n      <th>75%</th>\n      <td>55.361442</td>\n    </tr>\n    <tr>\n      <th>max</th>\n      <td>11260.434269</td>\n    </tr>\n  </tbody>\n</table>\n</div>"
     },
     "metadata": {},
     "execution_count": 47
    }
   ],
   "source": [
    "all_summed.describe()"
   ]
  },
  {
   "cell_type": "code",
   "execution_count": 49,
   "metadata": {},
   "outputs": [
    {
     "output_type": "execute_result",
     "data": {
      "text/plain": "                                                            0\n0000000000529bb02e61819c1c3e9ad7f3ab24935e494a9...   0.006214\n00000000017e96e16d27fa162ce0d3a655de04f4ff4d1e8...   0.000000\n00000000013a2e8c09557faa525089f174fc664c89e5199...   0.000000\n000000000130dcda27012e0109018b1bc250334ecbe8f16...   0.000000\n0000000000006239e36c30cd32786734778033765675553...  89.271494",
      "text/html": "<div>\n<style scoped>\n    .dataframe tbody tr th:only-of-type {\n        vertical-align: middle;\n    }\n\n    .dataframe tbody tr th {\n        vertical-align: top;\n    }\n\n    .dataframe thead th {\n        text-align: right;\n    }\n</style>\n<table border=\"1\" class=\"dataframe\">\n  <thead>\n    <tr style=\"text-align: right;\">\n      <th></th>\n      <th>0</th>\n    </tr>\n  </thead>\n  <tbody>\n    <tr>\n      <th>0000000000529bb02e61819c1c3e9ad7f3ab24935e494a9d767544ad7257c639</th>\n      <td>0.006214</td>\n    </tr>\n    <tr>\n      <th>00000000017e96e16d27fa162ce0d3a655de04f4ff4d1e8e72905fbb3d7ed5c3</th>\n      <td>0.000000</td>\n    </tr>\n    <tr>\n      <th>00000000013a2e8c09557faa525089f174fc664c89e5199162a182c1b508ef9f</th>\n      <td>0.000000</td>\n    </tr>\n    <tr>\n      <th>000000000130dcda27012e0109018b1bc250334ecbe8f16fd2d5ec1bf29ba564</th>\n      <td>0.000000</td>\n    </tr>\n    <tr>\n      <th>0000000000006239e36c30cd32786734778033765675553c498507dc1e575dbb</th>\n      <td>89.271494</td>\n    </tr>\n  </tbody>\n</table>\n</div>"
     },
     "metadata": {},
     "execution_count": 49
    }
   ],
   "source": [
    "all_summed.head()"
   ]
  },
  {
   "cell_type": "code",
   "execution_count": null,
   "metadata": {},
   "outputs": [],
   "source": []
  }
 ],
 "metadata": {
  "kernelspec": {
   "display_name": "Python 3",
   "language": "python",
   "name": "python3"
  },
  "language_info": {
   "codemirror_mode": {
    "name": "ipython",
    "version": 3
   },
   "file_extension": ".py",
   "mimetype": "text/x-python",
   "name": "python",
   "nbconvert_exporter": "python",
   "pygments_lexer": "ipython3",
   "version": "3.7.6-final"
  }
 },
 "nbformat": 4,
 "nbformat_minor": 4
}