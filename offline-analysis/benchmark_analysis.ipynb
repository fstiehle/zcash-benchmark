{
 "cells": [
  {
   "cell_type": "code",
   "execution_count": 2,
   "metadata": {},
   "outputs": [],
   "source": [
    "from functions import *\n",
    "import pandas as pd\n",
    "import seaborn as sns\n",
    "import statistics\n",
    "from matplotlib import pyplot as plt\n",
    "%matplotlib inline\n",
    "\n",
    "blocks = pd.read_csv(\"./raw_data/pr/data_block.csv\", names=[\"BLOCK\", \"NS\"])\n",
    "ecdsa_checks = pd.read_csv(\"./raw_data/pr/data_ecdsa.csv\", names=[\"BLOCK\", \"NS\"])\n",
    "shielded_spend = pd.read_csv(\"./raw_data/pr/data_shieldedSpend.csv\", names=[\"BLOCK\", \"NS\"])\n",
    "shielded_output = pd.read_csv(\"./raw_data/pr/data_shieldedOutput.csv\", names=[\"BLOCK\", \"NS\"])\n",
    "\n",
    "mall_hash = pd.read_csv(\"./raw_data/pr/data_malleability_hash.csv\", names=[\"BLOCK\", \"NS\"])\n",
    "mall_bindingSig = pd.read_csv(\"./raw_data/pr/data_malleability_bindingSig.csv\", names=[\"BLOCK\", \"NS\"])"
   ]
  },
  {
   "cell_type": "code",
   "execution_count": 5,
   "metadata": {},
   "outputs": [
    {
     "data": {
      "text/plain": [
       "BLOCK\n",
       "0000000003fd2189b54eb5372f7b71116f4a547efcbe37bcf02cd90c6660ac68             [9548982]\n",
       "0000000004017a587ee4ea74ced975ca03a21842fa0778234f7338deaa577626            [10066440]\n",
       "00000000040a82098d9625573ee3ea9e6f6f5dc7e52c7852660157df2c1d4ec0        [103, 9218882]\n",
       "00000000040b8efac072de5f701ac4d590c94e427dc6c1bc609f8a14ea3aaf99    [9449920, 9061849]\n",
       "0000000004621bda72023d7a1266a2ae8b213703beb2abaa3ac77268a308b7bb             [9400644]\n",
       "Name: NS, dtype: object"
      ]
     },
     "execution_count": 5,
     "metadata": {},
     "output_type": "execute_result"
    }
   ],
   "source": [
    "#ecdsa_checks.tail()"
   ]
  },
  {
   "cell_type": "code",
   "execution_count": 6,
   "metadata": {},
   "outputs": [
    {
     "ename": "KeyboardInterrupt",
     "evalue": "",
     "output_type": "error",
     "traceback": [
      "\u001b[0;31m---------------------------------------------------------------------------\u001b[0m",
      "\u001b[0;31mKeyboardInterrupt\u001b[0m                         Traceback (most recent call last)",
      "\u001b[0;32m<ipython-input-6-911e21fa29e5>\u001b[0m in \u001b[0;36m<module>\u001b[0;34m\u001b[0m\n\u001b[0;32m----> 1\u001b[0;31m \u001b[0mblock_inputs\u001b[0m \u001b[0;34m=\u001b[0m \u001b[0msum_per_block\u001b[0m\u001b[0;34m(\u001b[0m\u001b[0mecdsa_checks\u001b[0m\u001b[0;34m)\u001b[0m\u001b[0;34m\u001b[0m\u001b[0;34m\u001b[0m\u001b[0m\n\u001b[0m\u001b[1;32m      2\u001b[0m \u001b[0mblock_spends\u001b[0m \u001b[0;34m=\u001b[0m \u001b[0msum_per_block\u001b[0m\u001b[0;34m(\u001b[0m\u001b[0mshielded_spend\u001b[0m\u001b[0;34m)\u001b[0m\u001b[0;34m\u001b[0m\u001b[0;34m\u001b[0m\u001b[0m\n\u001b[1;32m      3\u001b[0m \u001b[0mblock_outputs\u001b[0m \u001b[0;34m=\u001b[0m \u001b[0msum_per_block\u001b[0m\u001b[0;34m(\u001b[0m\u001b[0mshielded_output\u001b[0m\u001b[0;34m)\u001b[0m\u001b[0;34m\u001b[0m\u001b[0;34m\u001b[0m\u001b[0m\n\u001b[1;32m      4\u001b[0m \u001b[0mblock_mall\u001b[0m \u001b[0;34m=\u001b[0m \u001b[0msum_per_block\u001b[0m\u001b[0;34m(\u001b[0m\u001b[0mmall_hash\u001b[0m\u001b[0;34m)\u001b[0m\u001b[0;34m\u001b[0m\u001b[0;34m\u001b[0m\u001b[0m\n\u001b[1;32m      5\u001b[0m \u001b[0mblock_bindingSig\u001b[0m \u001b[0;34m=\u001b[0m \u001b[0msum_per_block\u001b[0m\u001b[0;34m(\u001b[0m\u001b[0mmall_bindingSig\u001b[0m\u001b[0;34m)\u001b[0m\u001b[0;34m\u001b[0m\u001b[0;34m\u001b[0m\u001b[0m\n",
      "\u001b[0;32m~/Projects/DSI/zcash-benchmark/offline-analysis/functions.py\u001b[0m in \u001b[0;36msum_per_block\u001b[0;34m(raw_data, block_index, time_index)\u001b[0m\n\u001b[1;32m      6\u001b[0m \u001b[0;34m\u001b[0m\u001b[0m\n\u001b[1;32m      7\u001b[0m \u001b[0;31m# Median percent of timing if block has occurence\u001b[0m\u001b[0;34m\u001b[0m\u001b[0;34m\u001b[0m\u001b[0;34m\u001b[0m\u001b[0m\n\u001b[0;32m----> 8\u001b[0;31m \u001b[0;32mdef\u001b[0m \u001b[0mmedian_percent_of_block\u001b[0m\u001b[0;34m(\u001b[0m\u001b[0msum_timings\u001b[0m\u001b[0;34m,\u001b[0m \u001b[0mblocks\u001b[0m\u001b[0;34m,\u001b[0m \u001b[0mblock_index\u001b[0m\u001b[0;34m=\u001b[0m\u001b[0;36m1\u001b[0m\u001b[0;34m,\u001b[0m \u001b[0mtime_index\u001b[0m\u001b[0;34m=\u001b[0m\u001b[0;36m2\u001b[0m\u001b[0;34m)\u001b[0m\u001b[0;34m:\u001b[0m\u001b[0;34m\u001b[0m\u001b[0;34m\u001b[0m\u001b[0m\n\u001b[0m\u001b[1;32m      9\u001b[0m     \u001b[0mdata\u001b[0m \u001b[0;34m=\u001b[0m \u001b[0;34m{\u001b[0m\u001b[0;34m}\u001b[0m\u001b[0;34m\u001b[0m\u001b[0;34m\u001b[0m\u001b[0m\n\u001b[1;32m     10\u001b[0m     \u001b[0;32mfor\u001b[0m \u001b[0mitem\u001b[0m \u001b[0;32min\u001b[0m \u001b[0mblocks\u001b[0m\u001b[0;34m.\u001b[0m\u001b[0mitertuples\u001b[0m\u001b[0;34m(\u001b[0m\u001b[0;34m)\u001b[0m\u001b[0;34m:\u001b[0m\u001b[0;34m\u001b[0m\u001b[0;34m\u001b[0m\u001b[0m\n",
      "\u001b[0;32m/usr/local/anaconda3/lib/python3.7/collections/__init__.py\u001b[0m in \u001b[0;36m_make\u001b[0;34m(cls, iterable)\u001b[0m\n\u001b[1;32m    401\u001b[0m         \u001b[0m__new__\u001b[0m\u001b[0;34m.\u001b[0m\u001b[0m__defaults__\u001b[0m \u001b[0;34m=\u001b[0m \u001b[0mdefaults\u001b[0m\u001b[0;34m\u001b[0m\u001b[0;34m\u001b[0m\u001b[0m\n\u001b[1;32m    402\u001b[0m \u001b[0;34m\u001b[0m\u001b[0m\n\u001b[0;32m--> 403\u001b[0;31m     \u001b[0;34m@\u001b[0m\u001b[0mclassmethod\u001b[0m\u001b[0;34m\u001b[0m\u001b[0;34m\u001b[0m\u001b[0m\n\u001b[0m\u001b[1;32m    404\u001b[0m     \u001b[0;32mdef\u001b[0m \u001b[0m_make\u001b[0m\u001b[0;34m(\u001b[0m\u001b[0mcls\u001b[0m\u001b[0;34m,\u001b[0m \u001b[0miterable\u001b[0m\u001b[0;34m)\u001b[0m\u001b[0;34m:\u001b[0m\u001b[0;34m\u001b[0m\u001b[0;34m\u001b[0m\u001b[0m\n\u001b[1;32m    405\u001b[0m         \u001b[0mresult\u001b[0m \u001b[0;34m=\u001b[0m \u001b[0mtuple_new\u001b[0m\u001b[0;34m(\u001b[0m\u001b[0mcls\u001b[0m\u001b[0;34m,\u001b[0m \u001b[0miterable\u001b[0m\u001b[0;34m)\u001b[0m\u001b[0;34m\u001b[0m\u001b[0;34m\u001b[0m\u001b[0m\n",
      "\u001b[0;31mKeyboardInterrupt\u001b[0m: "
     ]
    }
   ],
   "source": [
    "block_inputs = group_by_block(ecdsa_checks)\n",
    "block_spends = group_by_block(shielded_spend)\n",
    "block_outputs = group_by_block(shielded_output)\n",
    "block_mall = group_by_block(mall_hash)\n",
    "block_bindingSig = group_by_block(mall_bindingSig)"
   ]
  },
  {
   "cell_type": "code",
   "execution_count": null,
   "metadata": {},
   "outputs": [],
   "source": [
    "#block_inputs.loc['000000000074009a7fae00e0b3350ff3c05ff2c10597398578e361f8bd12b3d4']"
   ]
  },
  {
   "cell_type": "code",
   "execution_count": null,
   "metadata": {},
   "outputs": [],
   "source": [
    "avg_input = median_percent_of_block(block_inputs, blocks)\n",
    "avg_spend = median_percent_of_block(block_spends, blocks)\n",
    "avg_output = median_percent_of_block(block_outputs, blocks)\n",
    "avg_mall = median_percent_of_block(block_mall, blocks)\n",
    "avg_bindingSig = median_percent_of_block(block_bindingSig, blocks)"
   ]
  },
  {
   "cell_type": "code",
   "execution_count": null,
   "metadata": {},
   "outputs": [],
   "source": [
    "avg_input.describe()\n"
   ]
  },
  {
   "cell_type": "code",
   "execution_count": null,
   "metadata": {},
   "outputs": [],
   "source": [
    "avg_spend.describe()"
   ]
  },
  {
   "cell_type": "code",
   "execution_count": null,
   "metadata": {},
   "outputs": [],
   "source": [
    "avg_output.describe()"
   ]
  },
  {
   "cell_type": "code",
   "execution_count": null,
   "metadata": {},
   "outputs": [],
   "source": [
    "avg_mall.describe()"
   ]
  },
  {
   "cell_type": "code",
   "execution_count": null,
   "metadata": {},
   "outputs": [],
   "source": [
    "avg_bindingSig.describe()"
   ]
  },
  {
   "cell_type": "code",
   "execution_count": null,
   "metadata": {},
   "outputs": [],
   "source": [
    "total_input = total_percent_of_block([block_inputs], blocks)\n",
    "total_spend = total_percent_of_block([block_spends], blocks)\n",
    "total_output = total_percent_of_block([block_outputs], blocks)\n",
    "total_mall_sapling = total_percent_of_block([block_mall, block_bindingSig], blocks)\n",
    "total = total_percent_of_block([block_bindingSig, block_mall, block_inputs, block_spends, block_outputs], blocks)"
   ]
  },
  {
   "cell_type": "code",
   "execution_count": null,
   "metadata": {},
   "outputs": [],
   "source": [
    "total_input.describe()"
   ]
  },
  {
   "cell_type": "code",
   "execution_count": null,
   "metadata": {},
   "outputs": [],
   "source": [
    "total_spend.describe()"
   ]
  },
  {
   "cell_type": "code",
   "execution_count": null,
   "metadata": {},
   "outputs": [],
   "source": [
    "total_output.describe()"
   ]
  },
  {
   "cell_type": "code",
   "execution_count": null,
   "metadata": {},
   "outputs": [],
   "source": [
    "total_mall_sapling.describe()"
   ]
  },
  {
   "cell_type": "code",
   "execution_count": null,
   "metadata": {},
   "outputs": [],
   "source": [
    "total.describe()"
   ]
  }
 ],
 "metadata": {
  "kernelspec": {
   "display_name": "Python 3",
   "language": "python",
   "name": "python3"
  },
  "language_info": {
   "codemirror_mode": {
    "name": "ipython",
    "version": 3
   },
   "file_extension": ".py",
   "mimetype": "text/x-python",
   "name": "python",
   "nbconvert_exporter": "python",
   "pygments_lexer": "ipython3",
   "version": "3.7.6"
  }
 },
 "nbformat": 4,
 "nbformat_minor": 4
}
