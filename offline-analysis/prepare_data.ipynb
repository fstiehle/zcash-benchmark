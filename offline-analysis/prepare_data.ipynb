{
 "cells": [
  {
   "cell_type": "code",
   "execution_count": 19,
   "metadata": {
    "scrolled": true
   },
   "outputs": [
    {
     "data": {
      "text/html": [
       "<div>\n",
       "<style scoped>\n",
       "    .dataframe tbody tr th:only-of-type {\n",
       "        vertical-align: middle;\n",
       "    }\n",
       "\n",
       "    .dataframe tbody tr th {\n",
       "        vertical-align: top;\n",
       "    }\n",
       "\n",
       "    .dataframe thead th {\n",
       "        text-align: right;\n",
       "    }\n",
       "</style>\n",
       "<table border=\"1\" class=\"dataframe\">\n",
       "  <thead>\n",
       "    <tr style=\"text-align: right;\">\n",
       "      <th></th>\n",
       "      <th>TX HASH</th>\n",
       "      <th>COINBASE</th>\n",
       "      <th>VERSION</th>\n",
       "      <th>VIN</th>\n",
       "      <th>VOUT</th>\n",
       "      <th>SHIELDEDSPEND</th>\n",
       "      <th>SHIELDEDOUT</th>\n",
       "      <th>NS</th>\n",
       "    </tr>\n",
       "  </thead>\n",
       "  <tbody>\n",
       "    <tr>\n",
       "      <th>1391858</th>\n",
       "      <td>55f9432c24</td>\n",
       "      <td>0</td>\n",
       "      <td>4</td>\n",
       "      <td>2</td>\n",
       "      <td>1</td>\n",
       "      <td>0.0</td>\n",
       "      <td>0.0</td>\n",
       "      <td>11900</td>\n",
       "    </tr>\n",
       "    <tr>\n",
       "      <th>1391859</th>\n",
       "      <td>3e768caf92</td>\n",
       "      <td>1</td>\n",
       "      <td>4</td>\n",
       "      <td>1</td>\n",
       "      <td>2</td>\n",
       "      <td>0.0</td>\n",
       "      <td>0.0</td>\n",
       "      <td>11300</td>\n",
       "    </tr>\n",
       "    <tr>\n",
       "      <th>1391860</th>\n",
       "      <td>e007821d79</td>\n",
       "      <td>1</td>\n",
       "      <td>4</td>\n",
       "      <td>1</td>\n",
       "      <td>2</td>\n",
       "      <td>0.0</td>\n",
       "      <td>0.0</td>\n",
       "      <td>16900</td>\n",
       "    </tr>\n",
       "    <tr>\n",
       "      <th>1391861</th>\n",
       "      <td>13678cbea0</td>\n",
       "      <td>1</td>\n",
       "      <td>4</td>\n",
       "      <td>1</td>\n",
       "      <td>2</td>\n",
       "      <td>0.0</td>\n",
       "      <td>0.0</td>\n",
       "      <td>11500</td>\n",
       "    </tr>\n",
       "    <tr>\n",
       "      <th>1391862</th>\n",
       "      <td>6f59c32cca</td>\n",
       "      <td>0</td>\n",
       "      <td>4</td>\n",
       "      <td>0</td>\n",
       "      <td>0</td>\n",
       "      <td>1.0</td>\n",
       "      <td>2.0</td>\n",
       "      <td>49662400</td>\n",
       "    </tr>\n",
       "  </tbody>\n",
       "</table>\n",
       "</div>"
      ],
      "text/plain": [
       "            TX HASH  COINBASE  VERSION  VIN  VOUT  SHIELDEDSPEND  SHIELDEDOUT  \\\n",
       "1391858  55f9432c24         0        4    2     1            0.0          0.0   \n",
       "1391859  3e768caf92         1        4    1     2            0.0          0.0   \n",
       "1391860  e007821d79         1        4    1     2            0.0          0.0   \n",
       "1391861  13678cbea0         1        4    1     2            0.0          0.0   \n",
       "1391862  6f59c32cca         0        4    0     0            1.0          2.0   \n",
       "\n",
       "               NS  \n",
       "1391858     11900  \n",
       "1391859     11300  \n",
       "1391860     16900  \n",
       "1391861     11500  \n",
       "1391862  49662400  "
      ]
     },
     "execution_count": 19,
     "metadata": {},
     "output_type": "execute_result"
    }
   ],
   "source": [
    "import pandas as pd\n",
    "data = pd.read_csv(\"./raw_data/tx.csv\", names=[\"TX HASH\", \"COINBASE\", \"VERSION\", \"VIN\", \"VOUT\", \"SHIELDEDSPEND\", \"SHIELDEDOUT\", \"NS\"])\n",
    "data.tail()"
   ]
  },
  {
   "cell_type": "code",
   "execution_count": 32,
   "metadata": {},
   "outputs": [
    {
     "data": {
      "text/plain": [
       "305.0"
      ]
     },
     "execution_count": 32,
     "metadata": {},
     "output_type": "execute_result"
    }
   ],
   "source": [
    "data['SHIELDEDSPEND'].max()"
   ]
  },
  {
   "cell_type": "code",
   "execution_count": 33,
   "metadata": {},
   "outputs": [
    {
     "data": {
      "text/plain": [
       "15.0"
      ]
     },
     "execution_count": 33,
     "metadata": {},
     "output_type": "execute_result"
    }
   ],
   "source": [
    "data['SHIELDEDOUT'].max()"
   ]
  },
  {
   "cell_type": "code",
   "execution_count": 20,
   "metadata": {},
   "outputs": [
    {
     "data": {
      "text/html": [
       "<div>\n",
       "<style scoped>\n",
       "    .dataframe tbody tr th:only-of-type {\n",
       "        vertical-align: middle;\n",
       "    }\n",
       "\n",
       "    .dataframe tbody tr th {\n",
       "        vertical-align: top;\n",
       "    }\n",
       "\n",
       "    .dataframe thead th {\n",
       "        text-align: right;\n",
       "    }\n",
       "</style>\n",
       "<table border=\"1\" class=\"dataframe\">\n",
       "  <thead>\n",
       "    <tr style=\"text-align: right;\">\n",
       "      <th></th>\n",
       "      <th>TX HASH</th>\n",
       "      <th>COINBASE</th>\n",
       "      <th>VERSION</th>\n",
       "      <th>VIN</th>\n",
       "      <th>VOUT</th>\n",
       "      <th>SHIELDEDSPEND</th>\n",
       "      <th>SHIELDEDOUT</th>\n",
       "      <th>NS</th>\n",
       "    </tr>\n",
       "  </thead>\n",
       "  <tbody>\n",
       "    <tr>\n",
       "      <th>377418</th>\n",
       "      <td>0882875395</td>\n",
       "      <td>0</td>\n",
       "      <td>4</td>\n",
       "      <td>1</td>\n",
       "      <td>0</td>\n",
       "      <td>0.0</td>\n",
       "      <td>1.0</td>\n",
       "      <td>63680100</td>\n",
       "    </tr>\n",
       "    <tr>\n",
       "      <th>377543</th>\n",
       "      <td>dfab67bc80</td>\n",
       "      <td>0</td>\n",
       "      <td>4</td>\n",
       "      <td>0</td>\n",
       "      <td>0</td>\n",
       "      <td>1.0</td>\n",
       "      <td>1.0</td>\n",
       "      <td>78167100</td>\n",
       "    </tr>\n",
       "    <tr>\n",
       "      <th>379062</th>\n",
       "      <td>c6a8d28120</td>\n",
       "      <td>0</td>\n",
       "      <td>4</td>\n",
       "      <td>1</td>\n",
       "      <td>1</td>\n",
       "      <td>0.0</td>\n",
       "      <td>1.0</td>\n",
       "      <td>18375100</td>\n",
       "    </tr>\n",
       "    <tr>\n",
       "      <th>379276</th>\n",
       "      <td>56268bbca4</td>\n",
       "      <td>0</td>\n",
       "      <td>4</td>\n",
       "      <td>2</td>\n",
       "      <td>1</td>\n",
       "      <td>0.0</td>\n",
       "      <td>1.0</td>\n",
       "      <td>25830400</td>\n",
       "    </tr>\n",
       "    <tr>\n",
       "      <th>379279</th>\n",
       "      <td>c00d40f39f</td>\n",
       "      <td>0</td>\n",
       "      <td>4</td>\n",
       "      <td>0</td>\n",
       "      <td>0</td>\n",
       "      <td>1.0</td>\n",
       "      <td>2.0</td>\n",
       "      <td>39461800</td>\n",
       "    </tr>\n",
       "  </tbody>\n",
       "</table>\n",
       "</div>"
      ],
      "text/plain": [
       "           TX HASH  COINBASE  VERSION  VIN  VOUT  SHIELDEDSPEND  SHIELDEDOUT  \\\n",
       "377418  0882875395         0        4    1     0            0.0          1.0   \n",
       "377543  dfab67bc80         0        4    0     0            1.0          1.0   \n",
       "379062  c6a8d28120         0        4    1     1            0.0          1.0   \n",
       "379276  56268bbca4         0        4    2     1            0.0          1.0   \n",
       "379279  c00d40f39f         0        4    0     0            1.0          2.0   \n",
       "\n",
       "              NS  \n",
       "377418  63680100  \n",
       "377543  78167100  \n",
       "379062  18375100  \n",
       "379276  25830400  \n",
       "379279  39461800  "
      ]
     },
     "execution_count": 20,
     "metadata": {},
     "output_type": "execute_result"
    }
   ],
   "source": [
    "data = data[(data['VERSION'] >= 4) & (data['COINBASE'] == 0)]\n",
    "data = data[(data['SHIELDEDSPEND'] > 0) | (data['SHIELDEDOUT'] > 0)]\n",
    "\n",
    "data.head()"
   ]
  },
  {
   "cell_type": "code",
   "execution_count": 21,
   "metadata": {},
   "outputs": [],
   "source": [
    "# Remove all VIN and VOUT for now\n",
    "data = data[(data['VIN'] == 0) | (data['VOUT'] == 0)]"
   ]
  },
  {
   "cell_type": "code",
   "execution_count": 26,
   "metadata": {},
   "outputs": [
    {
     "data": {
      "text/plain": [
       "dtype('int64')"
      ]
     },
     "execution_count": 26,
     "metadata": {},
     "output_type": "execute_result"
    }
   ],
   "source": [
    "data.tail()\n",
    "data['NS'].dtype"
   ]
  },
  {
   "cell_type": "code",
   "execution_count": null,
   "metadata": {},
   "outputs": [],
   "source": []
  },
  {
   "cell_type": "code",
   "execution_count": 27,
   "metadata": {},
   "outputs": [],
   "source": [
    "data.to_csv(r'./data/sapling-tx.csv')"
   ]
  },
  {
   "cell_type": "code",
   "execution_count": null,
   "metadata": {},
   "outputs": [],
   "source": []
  }
 ],
 "metadata": {
  "kernelspec": {
   "display_name": "Python 3",
   "language": "python",
   "name": "python3"
  },
  "language_info": {
   "codemirror_mode": {
    "name": "ipython",
    "version": 3
   },
   "file_extension": ".py",
   "mimetype": "text/x-python",
   "name": "python",
   "nbconvert_exporter": "python",
   "pygments_lexer": "ipython3",
   "version": "3.7.6"
  }
 },
 "nbformat": 4,
 "nbformat_minor": 4
}
